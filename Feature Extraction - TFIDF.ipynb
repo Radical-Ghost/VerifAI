{
 "cells": [
  {
   "cell_type": "code",
   "execution_count": 1,
   "id": "8de07fa8",
   "metadata": {},
   "outputs": [],
   "source": [
    "import pandas as pd\n",
    "import numpy as np\n",
    "import seaborn as sns\n",
    "import matplotlib.pyplot as plt"
   ]
  },
  {
   "cell_type": "code",
   "execution_count": 2,
   "id": "da1d4007",
   "metadata": {},
   "outputs": [],
   "source": [
    "from sklearn.feature_extraction.text import TfidfVectorizer\n",
    "tfidf = TfidfVectorizer(\n",
    "    max_features=7000,\n",
    "    ngram_range=(1, 2),\n",
    "    min_df=5,\n",
    "    stop_words='english'\n",
    ")"
   ]
  },
  {
   "cell_type": "code",
   "execution_count": 3,
   "id": "5d9139de",
   "metadata": {},
   "outputs": [],
   "source": [
    "df = pd.read_csv('data/cleaned_combined.csv')"
   ]
  },
  {
   "cell_type": "code",
   "execution_count": 4,
   "id": "2b840adb",
   "metadata": {},
   "outputs": [
    {
     "data": {
      "application/vnd.microsoft.datawrangler.viewer.v0+json": {
       "columns": [
        {
         "name": "index",
         "rawType": "int64",
         "type": "integer"
        },
        {
         "name": "clean_text",
         "rawType": "object",
         "type": "string"
        },
        {
         "name": "target",
         "rawType": "int64",
         "type": "integer"
        }
       ],
       "ref": "9d0faa94-527a-4929-a4dc-a998659311cb",
       "rows": [
        [
         "0",
         "national security adviser brzezinski die reuters zbigniew brzezinski serve president jimmy carter national security adviser iran hostage crisis soviet invasion afghanistan drive normalization relation china die brzezinskis daughter mika host msnbcs morning joe say father die peacefully friday cause death know friend zbig grandchild chief wife endure love life know inspiring love devoted father girl say instagram brzezinski hawkish son polish diplomat national security adviser year carter presidency period see tumultuous international event include iranian revolution taking americans hostage tehran fail rescue mission soviet invasion afghanistan brzezinski pluck carter academic world see soviet union foreign policy move evidence trust place odd carter close adviser secretary state cyrus vance push strategic arm limitation treaty salt moscow defense secretary harold brown urge ussoviet accord curb conventional force europe soviet troop invade afghanistan brzezinski strongly back arm afghan rebel hardline stance lead pravda soviet communist party newspaper denounce foe detente carter say brzezinski brilliant dedicated loyal rosalynn carter wife sadden say statement important life decade superb public servant president barack obama call brzezinski accomplished public servant powerful intellect passionate advocate american leadership influence span decade president benefit wisdom counsel know zbig stand idea advocacy help shape decade american national security policy joint statement president george h w bush national security adviser brent scowcroft hail brzezinski great american good man good friend skeptical soviet motive objective brzezinski nurture diplomatic friendship united states china culminate trip beijing june lead reestablishment diplomatic tie brzezinskis view soviet union color childhood experience bear warsaw poland march take youngster canada father serve diplomat communist take poland end world war family remain west brzezinski receive doctorate harvard university american citizen voice support policy vietnam mid serve policy planning staff president lyndon johnsons state department david rockefeller chairman chase manhattan bank brzezinski help found trilateral commission private group promote close tie north america western europe japan carter know brzezinski election ask leave columbia university effect soviet communism focus work regular access carter give brzezinski vast influence lead report vance rival president ear rivalry last vance resign aborted mission rescue american hostage iran april seizure embassy tehran vance resist brzezinskis proposal washington military crackdown irans radical islamic force embassy take follower islamic leader ayatollah ruhollah khomeini vance seek carter back attempt come term khomeini brzezinski characteristically favor military action free american hostage punish iran carter eventually accept brzezinskis proposal illfate mission servicemen die brzezinski take negotiation egyptisrael peace treaty see major achievement carter presidency despite lifelong antipathy soviet communism join defense secretary brown spearhead unsuccessful drive win senate approval salt arm control accord clear senate result december soviet invasion afghanistan salt remain unofficially effect original fiveyear lifespan carter year brzezinski consultant international affair senior adviser washington center strategic international study teach foreign policy johns hopkins university write frequent opinion article newspaper publish book include strategic vision america crisis global power vice president george hw bush try build image tough foreign policy realist consider coup secure brzezinskis support presidential campaign brzezinski time critical bill clinton george w bush sharply critical bushs war terror invasion iraq donald trump election november observe world watch political development stupefaction brzezinski endorse barack obama say democratic presidential candidate recognize challenge bring new face new sense direction new definition america role world brzezinski child wife emilie",
         "1"
        ],
        [
         "1",
         "trump back conspiracy theory say hillary clinton murder vince foster general election truly begin donald trump reach level mudslinge previous candidate horrify deal astoundingly underhande blow opponent ted cruz suggest cruz father involve kennedy assassination trump turn goldplated bullshit spewer direction clintonson trump give weight conservative conspiracy theory surround death white house aide vince foster surprise trump lot stock idea bill hillary clinton murder white house counsel foster cover washington post apparently literally well dutifully report trump comment genuine criticism hope raving lunatiche call theory possible foul play circumstance foster death fishy intimate knowledge go trump say speaking foster relationship clinton time know go sudden commit suicide title piece trump shit instead trump escalate attack bill clinton come theory wrench low dreg rightwe internet get to hear sideshilariously second bring foster death describe fishy trump claim go weigh weigh bring foster case lie know discuss think fair catch glimpse nasty trump campaign go clinton unable run policy trump experience trump integrity trump unable point obama presidency inconvenience extremely popular instead cheap shot conspiracy outrageous lie weapon arsenal clearly plan use relentlesslyfor worth absolutely evidence clinton involve vince foster death snope post title clinton body count say snope sense humor fact checker find roughly zero evidence clinton administration kill foster cover damn scandal accord multiple investigation foster sadly take life follow harassment campaign partly lead rightwe news outlet like wall street journal political scandalwhite house deputy counsel vince foster commit suicide night july shoot head day contact doctor depression note form draft resignation letter find briefcase week death note letter claim suicide note foster outline letter resignation foster cite negative wall street journal editorial muchcriticize role counsel office controversial firing seven white house travel office workersdonald trump freely admit know case find evidence hear rightwe blog fishy make lie smear merchant complete utter moron pickfeature image mark lyonsgetty image",
         "0"
        ],
        [
         "2",
         "trump meet australian pm relation strain asylum seeker sydneywashington reuter president donald trump meet australian prime minister malcolm turnbull new york city nation seek repair relationship strain row asylum seeker resettlement deal meeting leader relation strain acrimonious telephone shortly trump inauguration trump label australiaus resettlement swap agree president barack obama dumb deal turnbull say th anniversary world war battle coral sea celebration new york city offer chance nation reaffirm alliance bilateral meeting follow speech trump aboard uss intrepid aircraft carrier turn museum hudson river mark anniversary coral sea battle australian troop fight japanese white house spokesman sean spicer say australia washington staunch ally troop nation fight alongside major conflict recently iraq afghanistan late year obama agree resettle asylum seeker hold australianfunde camp south pacific exchange australia resettle refugee el salvador guatemala hondura february trump criticize deal accuse australia try export boston bomber agreement washington post report eager repair relationship vice president mike pence week visit australia confirm washington begrudgingly honor refugee deal canberra respect alliance country",
         "1"
        ],
        [
         "3",
         "senate clear way billion arm sale saudi arabia washington reuters senate clear way billion sale tank military equipment saudi arabia wednesday defend frequent partner middle east recently subject harsh criticism congress senate vote kill legislation stop sale overwhelming vote stop effort lead republican senator rand paul democratic senator chris murphy block deal concern include saudi arabias role monthlong war yemen worry fuel ongoing regional arm race pentagon announce aug state department approve potential sale abrams battle tank armored recovery vehicle equipment saudi arabia defense security cooperation agency say general dynamics corp principal contractor sale paul murphy opponent arm deal sharply critical riyadh government debate vote cite yemen kingdom human right record international support conservative form islam stop flow extremist recruit globe brand islam spread saudi arabia world problem murphy say criticism come day lawmaker expect measure see antisaudi bill allow lawsuit countrys government relative victim sept attack president barack obama promise veto bill congressional leader strong chance lawmaker override veto let measure law override presidential veto require twothird vote house senate yemen saudile coalition battle iranianallie houthis houthis accuse united states arm support saudi intervene yemens exile government war kill people displace million backer deal say saudi arabia important ally wartorn region deserve support motion come singularly unfortunate time serve convince saudi arabia observer united states live commitment senator majority leader mitch mcconnell say",
         "1"
        ],
        [
         "4",
         "factbox trump twitter oct tax cut united kingdom follow statement post verified twitter account president donald trump realdonaldtrump potus opinion express reuter edit statement confirm accuracy realdonaldtrump great news budget senatemajldr mcconnell step deliver massive tax cut american people taxreform bitlygnjj edt budget pass late night get zero democrat vote rand paul vote tax cut vote edt allow passage large scale tax cut reform big history country edt report united kingdom crime rise annually amid spread radical islamic terror good america safe edt source link bitlyjbhlu bitlyjpexyr",
         "1"
        ],
        [
         "5",
         "cbs reporter describe racism donald trump rally cbs reporter sopan deb speak level racism personally encounter donald trump ralliesas addict info report deb citizen indian descent arrest early week cover donald trump cancel iuc rallyhis unconstitutional arrest chicago police help draw attention deep issue define trump campaigndeb report encounter shocking racism trump supporter time assign cover trump ralliesfor example january describe man accuse record trump rally isis trump supporter ask reno event take picture isis look shocked say yeah talk sopan deb sopandeb january go describe encounter detail write twitterthe man repeat accusation multiple time tell politely cbs say inappropriate sopan deb sopandeb january man tell america glad couple guess mean deb say twitterhe say different rally hold december trump supporter tell iraq come surprise learn trump rally magnet low common denominator sort diversity trump supporter slight difference proud white supremacist swastika tattoo semiclosete racist prefer hide crosse cry traditional christian value attack politically speak little difference tea party platform platform american nazi party kkk white supremacist organizationa washington post report membership white supremacist group grow enormous rate election president obama group number drop president obama election number jump trump capitalize right wing seethe race hatred propel head raceknowe surprise candidate refuse condemn kkk white nationalist robocalle voter behalf campaignin voter decide direction country donald trump rightwe racist win presidency racial tension likely explode countrynow time country move forward challenging racism rightwe extremism turn great battle historic election president barack obama war far overimage credit darron birgenheier flckr screen capture sopan deb twitter",
         "0"
        ],
        [
         "6",
         "confident brazil meet political economic challenge white house washington reuters president obama optimistic brazil ability meet political economic challenge wake recent international monetary fund assessment white house say tuesday united states president obama confidence durability brazilian democracy weather challenge say white house spokesman josh earnest",
         "1"
        ],
        [
         "7",
         "government lose russias disinformation campaign adviser reuter government spend decade prepare response malicious hacking foreign power clear strategy russia launch disinformation campaign internet election campaign current white house cyber security adviser say far effort go plot offensive hacking prepare defense probable dramatic damage electronic assault power grid financial system direct manipulation voting machine year intelligence agency track russias use coordinated hacking disinformation ukraine adviser intelligence expert say little sustained highlevel government conversation risk propaganda come united states presidential election extent alter outcome security source say official feel limited investigate russiansupporte propaganda effort free speech guarantee constitution white house official caution government attempt counter flow foreign statebacke disinformation deterrence face major political legal moral obstacle massive surveillance curtail freedom cost willing accept say official speak condition anonymity russia control distribution information way not clinton watt security consultant fbi agent fellow nonprofit foreign policy research institute say government long organization information agency provide counternarrative cold war say major russian disinformation campaign united states europe start russiangovernment fund medium outlet rt television sputnik news amplify twitter watts say urgent government build capability track happen online dispute false story thing need immediately watts say public statement lead conspiracy theory defense spending pill pass month call state department establish global engagement center work similar effort counter sophisticated islamic state narrative fall short government formally accuse russia campaign cyber attack political organization october month nov election james lewis cyber security expert center strategic international study work department state commerce military say washington need antiquated notion project influence hope catch russia rt know send carrier battle group lewis say go stick find way deal watt say track ten thousand prorussia twitter handle believe effective story stoke fear war calamity promote narrative corrupt western politician medium elite say sputnik show intensity russian effort launch year ago successor official russian wire service radio network sputnik merely parrot kremlin political line accord expert go way hire outsider social medium expertise include leave rightleane americans critical policy sputnik news respond request comment election campaign prominent fulltime sputnik writer commentator cassandra fairbank shift ardent antipolice protestor supporter socialist senator bernie sander vocal backer republican donald trump fairbank say interview reuter sputnik tell advocate trump presidentelect say sway trump opposition overseas war international trade agreement good push fairbank say free woman thirty twitter follower fairbank activist hack movement know anonymous join sputnik day election fairbank say youtube channel pretty likely author email hack account democratic candidate hillary clinton campaign manager john podesta code word pedophilia speak pizza assertion feed falsehood clinton supporter operate child sex ring washingtonbase pizza parlor channel million subscriber run alex jones radio host say attack inside job joe fionda veteran occupy protest work briefly sputnik say organization article social medium effort overall aim praise russian president vladimir putin ally syria dwelling negative news united states include police misconduct official political analyst say putin believe businessman trump friendly russia clinton especially come economic sanction fionda say spread hack email priority sputnik say job include try create viral meme facebook page call mutinous medium list sputnik connection worker democratic national committee group infiltrate russianbacke hacker say government consider provide funding technological defense major political party say hack email begin appear online party functionary constantly respond say staff democratic president barack obama overly concerned appear defend partys candidate obama ask spy agency deliver analysis russian meddling election include discussion propaganda operation office director national intelligence general counsel robert litt tell reuters ask tuesday think government catch guard litt say touch foot pole important issue intelligence community look carefully issue report time",
         "1"
        ],
        [
         "8",
         "high school teacher seek help union fire stomp american flag class video example rampant indoctrination child antiamerican leave god bless local veteran come forward defense american flaga teacher allegedly stomp american flag high school lesson free speech firedthe martinsville school district board unanimously vote fire english teacher jordan parmenter wglt reportsthe teacher incense student step flag lesson free speech martinsville juniorsenior high schoolaccording student class parmenter small american flag pointer chart student say disrespectful teacher say say rash decision drop flag floor step illustrate example free speech lesson day accord journal gazette figure actually go simulation actually jonathon smith senior school quote say tristatehomepagecom month talk right want want idea actually basically start resident reportedly protest outside school incident bring attention walk flag forth building disgraceful protester clifford clouser navy veteran tell wthitv fight tear history flag good bad flag protester nicholas gibson veteran marines tell tv station happen proud kid stand believe parmenter write letter apology school board save jobthe teacher speak medium follow termination plan speak union representative accord fox eag news",
         "0"
        ],
        [
         "9",
         "oops heckler force hillary stage la minute video karma bitch way la not like hillary clintonher campaign rally today last minute half pictwittercomiwqttutqv alison arkin cronikey",
         "0"
        ],
        [
         "10",
         "iran say use weapon selfdefense ankara reuters irans foreign minister mohammad javad zarif tweet friday tehran use military country selfdefense reaction president donald trump tough approach tehran use weapon selfdefense let complain statement tweet",
         "1"
        ],
        [
         "11",
         "trade focus hear trump nominee ambassador india washington reuters senator stress trade business issue question president donald trump nominee ambassador india confirmation hearing tuesday express strong support post new delhi trump nominate kenneth juster ambassador india sept yearold economic adviser administration serve secretary commerce republican president george w bush know expert india juster praise trump fellow republicans control congress democrats senate foreign relations committee raise issue complicate relation trump campaign america platform forcefully express displeasure grow trade deficit india call reform hb visa system benefit indian tech firm indian official reject suggestion prime minister narendra modi india platform protectionist complain turn regulation product generic drug fruit senator bob corker panel chairman say frustrate slow pace india economic reform republican senator rob portman trade representative strike similar note say deep concern market access india product service need continue press forward sure india adhere wto world trade organization obligation push range economic issue portman say senator ben cardin panel democrat say india strong enforce sanction law juster say business issue priority new delhi promise work new delhi issue north korea pursuit nuclear weapon counter terrorism work india security afghanistan defense secretary jim mattis hold talk india week seek india great involvement help stabilize afghanistan trump administration step pressure pakistan militant operate soil democratic senator chris coon ask juster hb visas say position characterize administration current position mission india process visa vote juster confirmation schedule corker call extraordinarily wellqualifie say hope confirm quickly cardin praise incredible credential",
         "1"
        ],
        [
         "12",
         "gere fault trump blur meaning refugee terrorist berlin reuters actor activist richard gere say friday president donald trump manage merge meaning word refugee terrorist mind americans gere tell news conference berlin film festival world premiere new film dinner find discourage term refugee dispiriting change meaning united states horrible thing trump conflate word refugee terrorist gere tell journalist mean thing accomplish large segment population trump order travel ban refugee citizen seven muslimmajority country jan appeal court san francisco refuse reinstate temporary ban order trump criticize court decision refugee empathy want help want refuge gere say afraid big crime conflate idea gere meet chancellor angela merkel week berlin festival tell trump phone week ago global fight terrorism excuse ban people muslimmajority country film dinner gere play famous politician meet wife brother hip restaurant discuss horrible crime commit son interview reuter news conference gere say encourage protest united states trump policy essentially optimist see opportunity people day inaugurate gere say million people street new york not angry demonstration positive demonstration kind unity purpose million migrant flee conflict persecution arrive germany year dinner film berlinale compete golden silver bear festival run feb",
         "1"
        ],
        [
         "13",
         "major corporation leave south carolina republican introduce antilgbt bill south carolina republicans introduce antilgbt bill similar law pass north carolina mississippi pay price itgop state senator lee bright think trans people threat safety woman child bathroom despite zero evidence country mean year ago keep talk tolerance tolerance tolerance want man claim woman able bathroom child bright say floor state senate introduce legislation get corporation okay bright claim complete lie base fact state city country pass protection lgbt people discrimination single record instance trans person enter woman bathroom sexually harass anyoneyet republicans claim justify antilgbt bill make discrimination legal guise religious liberty north carolina pass odious law month mississippi month far state face severe backlash cost state dearlybusinesse corporation threaten pull state cancel plan expand state face loss billion federal dollarsand corporation wait south carolina republicans pass bill law introduce ceo company california remain state embrace bigotryuphold financial service industry allow user service transfer deposit bitcoin reservebacke currency dollar fastgrowing business handle nearly billion transaction yearsceo anthony watson disgusted bright bill decide company headquarter charleston state uphold found key pillar transparency accountability core stand fairness inclusion equality watson write statement company website uphold bring financial service build company bring principle fairness inclusion equality watson proceed rip south carolina republicans new announce decision launch preemptive exodus state sit watch bigote republicans jam bill law openly gay british ceo american company watch shock dismay legislation abruptly propose enact state union seek invalidate basic protection right lgbt lesbian gay bisexual transgender citizenssome aware uphold headquarters base charleston south carolina recent day aware south carolina sen lee bright introduce bill largely mirror north carolina controversial law block local government pass lgbtinclusive antidiscrimination ordinance feel compel action oppose discrimination propose south carolina protect lgbt employeestoday uphold take difficult decision corporate headquarters charleston south carolina los angeles californiawe stand firm commitment fairness equality inclusion strong conviction difference live core value right thing member employee partner community live work bold cost south carolinian hundred job likely major blow state local economy taste south carolina republicans expect continue path take state backwardsfeature iamge wikimedia",
         "0"
        ],
        [
         "14",
         "californian register vote few republicans state say sacramento calif reuters people register vote california major election number republicans democratdominated state continue drop accord state datum release democrat hold statewide elective office large majority house legislature populous state million republican register state jan nearly million early january presidential election cycle secretary state alex padilla say monday republicans account percent register voter california percent accord datum post padillas state website change reflect number voter register independent go percent january number californian indicate prefer state party preference million million independent account percent register voter percent number democrats remain roughly million number people register vote california rise million reporting sharon bernstein edit cynthia osterman article fund sap independently create reuters editorial staff sap editorial involvement creation production",
         "1"
        ],
        [
         "15",
         "trump say jettison drug czar pick washington reuters president donald trump say monday review report nominee drug czar champion law weaken government ability fight nation opioid epidemic say consider jettison pick go look report trump tell reporter white house ask report undercut confidence nominee head office national drug control policy representative tom marino trump say speak speak ill determination think percent negative want change yes add marinos office immediately return request comment report washington post cbs describe marino introduce help push industrybacke legislation undercut drug enforcement administration ability freeze suspicious shipment pain pill drug company number democrats call trump abandon nominee wake report congressman marino long trust public aggressively pursue fight opioid abuse democratic senator joe manchin say statement manchin state west virginia hit hard opioid crisis remark reporter trump suggest open change law marino fellow republican help push say good early promise declare opioid epidemic national emergency go week say call crisis massive problem opioid involve death united states year publicly available datum accord center disease control prevention overdose category drug nearly quadruple cdc say",
         "1"
        ],
        [
         "16",
         "break trump advisor catch disturb russian connection disturbing trend trump campaign revelation august come light trump campaign manager paul manafort lobbyist behalf prorussian ukrainian leader viktor yanukovych resign shame currently undergo investigationthen month later trump advisor carter page probe potentially hold secretive talk russian official effort sanction lift trump campaign sever tie page hadif evidence clear trump surround prorussian ally order accomplish nefarious endgame report advisor catch business russia coordinate campaignaccording congressional lobbying disclosure richard burt receive russian governmentowne firm lobby propose naturalgas pipeline pipeline oppose united states allow russia bypass ukraine belarus greatly expand putin power europe abroadburt responsible craft trump major foreign policy speech trump call great cooperation russiai believe easing tension improved relation russia position strength possible common sense say cycle hostility end russians reasonable intend find outburt hold policy meeting national security foreign policy alabama senator trump cheerleader jeff sessions session chair trump campaign national security committeenot surprisingly trump campaign play dumb deny campaign know thiswe knowledge fact team verify selfproclaime contribution mr trump speech believe mr trump policy staff meet mr burt knowledge input speech contact policy teameither trump campaign manager blatantly lie face idea go campaign way notion doubt deflection ignorance good lookaccording politicothe revelation burt simultaneous lobbying campaignadvising come time mount concern russian attempt manipulate presidential election private security expert american intelligence official conclude recent hack democratic national committee state election system political figure likely carry russian government hacker trump repeatedly profess admiration putin call question honor united states mutual defense obligation nato ally face russian invasionthird times charm apparently adviser tie russia time tell influence rogue nation electionthe trump campaign well start give answer hillary clinton start ask questionsfeature image ethan millergetty image",
         "0"
        ],
        [
         "17",
         "republicans democrat sharply divide muslim america reutersipsos poll new york reuters americans view islam unfavorably supporter republican presidential candidate donald trump twice likely view religion negatively back democratic presidential candidate hillary clinton accord reutersipsos online poll americans show percent american adult somewhat unfavorable unfavorable view islam include percent trump supporter percent clinton supporter contrast largely mirror breakdown republicans democrats comparison respondent overall equally unfavorable view atheism percent compare percent hinduism percent judaism percent christianity spokespeople trump clinton decline comment poll take place attacker thursday drive truck holiday crowd nice france kill people president francois hollande call terrorist act police source say driver link common crime watch list intelligence service islamist militant group immediately claim responsibility attack race nov presidential election spotlight americans view muslim trump propose temporary ban muslim enter united states repeat proposal omar mateen new yorkborn muslim arm assault rifle kill people attack florida gay nightclub month ideological divide trump clinton supporter set backdrop increase violence discrimination muslim united states poll show percent trump supporter percent clinton supporter say compare religion islam likely encourage act terrorism trump supporter twice likely clinton supporter islam encouraging violence americans woman gay people polling belief system perceive connection terrorism violence come close match number clinton call inclusive environment american society joint effort government muslim country battle spread islamist militancy criticize trump harsh statement muslim mexican trump bemoan call american societys devotion political correctness graphic tmsnrtrsipjl party affiliation account deep division americans view muslims concerned respondent status rich poor young old male female offer pronounce overall view identification democrats republicans true trump represent republicans broadly define think republicans look different not say douglas mcadam sociology professor stanford university study american politic go claim presidential candidate mitt romney world trump republican not represent republican party resonate republicans generally accord council americanislamic relation muslim civil right group attack american muslims mosque united states rise high level record group say incident damage destruction mosque report incident muslim person target slur kind harassment reutersipsos poll run state june july include american adult credibility interval measure accuracy percentage point",
         "1"
        ],
        [
         "18",
         "exsouth carolina cop get year prison black motorist death charleston sc reuters white policeman catch video shoot unarmed black man traffic stop south carolina sentence thursday year prison federal judge rule killing amount murder decision come year michael slager state murder trial death yearold walter scott end deadlocked jury slager police officer recent year united states receive prison time onduty shoot recognize tragedy district judge david norton tell charleston courtroom pack member man family scott family necessarily slager family slager family necessarily scott family say zerosum game slager patrolman north charleston pull scott father broken brake light april say open fire feel threaten motorist try stun gun struggle plead guilty violate scott civil right excessive force charge carry possible lifetime prison sentence slager shoot scott time hit time state prosecutor drop murder charge exchange federal plea thursday slager express remorse wish happen say slager jail plea dress inmate gray white jumpsuit wish change event sorry bystander cellphone video shooting draw national attention case renew concern police treatment minority footage centerpiece fourday sentence hearing prosecutor defense lawyer argue bolster case norton side government find slager commit seconddegree murder obstruct justice lie investigator scott try grab taser judge reject defense argument slager provoke act heat passion scott relative lawyer say punishment mark historic moment justice call law enforcement rethink use deadly force court end family member tell slager forgive pain diminish say anthony scott motorist old brother shoot like run away",
         "1"
        ],
        [
         "19",
         "watch jehovahs witness create cartoon indoctrinate kid hate gay people apparently tired people slamming door face jehovah witness find new way indoctrinate childrenrather accept parent want child brainwash hate people religious sect create cartoon mean teach antigay christian act advocate causethe cartoon begin child school look drawing classmate family gaze image child hold hand mom child go home present mother picture draw family feature conservative traditional family feature mother fathershe mention classmate draw mommy married teacher say matter long love happythe girl mother antigay viewpoint promptly go try teach child hate gay people normal mother pick bible tell girl marriage union man woman use example airport security scanner demonstrate gay people go able paradise gay word gay people go hellthe girl mom go claim people change code mean gay people stop gay straight encourage girl tell classmate jehovah parent go hell stop gayhere video youtubejehovah witness proudly give stamp approval video endsthis reason start tell jehovah witness christian instead wait away persistence try preach people home annoying thing literally try indoctrinate child social medium cartoon teach bigot homophobe spew hate condemnation instead decent human being practice love acceptance tolerancechildren subject kind backward thinking create cartoon low getsfeature image video screen capture",
         "0"
        ],
        [
         "20",
         "cuban dissident electoral challenge castro era near end havana reuters opponent cuban government put forward unprecedented number candidate municipal election late october step process select new president nearly year castro brother rule electoral cycle come tricky time caribbean nation castros revolutionary generation die economic reform program appear stall aid key ally venezuela shrink trump administration threaten municipal vote electoral process direct participation ordinary cubans expect attract candidate island municipal assembly follow provincial national assembly election candidate select slate commission new national assembly late february select successor president raul castro announce step aside term raul young brother successor fidel castro die november retain grip power head communist party legal party cuba election cast staterun medium support castros revolution opportunity debate press issue campaign prohibit candidate ward delegate position nominate neighborhood meeting base personal merit policy position need belong communist party candidate independent government opponent compete election dissident nominate lose poll year coalition opposition group otro say run candidate municipal election demand electoral reform government transparency unheard say boris gonzalez aspire otro candidate explain want challenge communist party system otro spokesman manuel cuesta morua say interview candidate face harassment threat state security force month warn participate government respond accusation communist party say intervene election video circulate social medium vice president miguel diazcanel raul castro probable successor suggest initiative election seek propose counterrevolutionary candidate diazcanel tell communist party cadre video take step discredit battle fight go involve process second half year say government comment video cuba brand dissenter mercenary fund foreign government exile topple government dissident candidate beat odd elect municipal assembly little chance get candidate provincial national assembly nominate commission compose representative communist partycontrolle organization trade union federation committee defense revolution slate number name seat previous election percent name ward delegate general election assembly elect respective executive feb new national assembly schedule new president member council state vote important president say retire air force mechanic staunch castrosupporter eduardo request vote neighborhood representative say think well system base money lie",
         "1"
        ],
        [
         "21",
         "death toll strike gaza tunnel week rise gaza reuters palestinian militant group say friday member kill early week israel blow crossborder tunnel dig militant gaza strip bring death toll strike eager seek escalation tunnel blow monday israel point action carry border islamic jihad group say deny access collapse tunnel unable recover body member islamic jihad hamas dominant islamist group gaza say early lose people tunnel collapse swear retaliate hamas accuse israel try undermine reconciliation agreement reach mahmoud abbas president palestinian authority month israel construct sensorequippe underground wall km mile gaza border aim complete billion project mid gaza war hamas fighter dozen tunnel blindside israel superior force threaten civilian community near frontier counterpoint iron dome antimissile system largely protect country heartland militant rocket barrage israel united states call hama disarm pact hamas palestinian authority israeli peace effort abbas collapse proceed hamas reject demand",
         "1"
        ],
        [
         "22",
         "alabama late assault gay marriage great news kim davis wannabes supreme court ruling legalize gay marriage state work hard alabama christian right dependency bigotry exist protect cost week state senate take step battle bigot zealot acknowledge law land pass bill eliminate marriage license state altogetherye force clerk judge stamp approval undoubtedly cause end civilization know senate bill take state completely marriage game resident instead sign affidavit civil union clerk receive record way trumpet sound archangel gabriel descend turn mobile salt issue marriage license able stand pearly gate plead case st peter clean consciencethe bill read requirement obtain marriage license state alabama abolish repeal requirement ceremony marriage solemnize marriage abolish dub way bill critic make marriage people attorney state senator greg albritton tell reporter invite state matter personal religious import create difficulty early twentieth century look try find marriage license grandparent great grandparent find find instead people come record marriage occur early twentieth century look time marriage legal income tax purpose income tax make difference way alabama republicans try spin bill design save christian treat gay community people circumstance propose law maintain state requirement civil marriage contract minor age need parental permission state refuse record marriage contract party marry relate blood adoptionthe funny thing state adopt law like issue come need court case scotus rule people dedicate enjoy legal tax advantage union free marry faith allow require interference bigot clerk officewe add advantage hear kim davisfeature image alabamaconnectionorg",
         "0"
        ],
        [
         "23",
         "scottish leader say trump win bring real sense anxiety edinburgh reuters scotland minister nicola sturgeon congratulate donald trump win presidential election wednesday say feel anxious victory normal election lose feel disappointment today america world feel real sense anxiety sturgeon say statement trump mother scottish own golf course west east coast scotland scottish root tell scottish newspaper early year scotland face fierce local resistance development plan win united states sturgeon long vocal distaste trump endorse opponent hillary clinton recently tuesday outcome hope verdict american people respect congratulate presidentelect trump win election say",
         "1"
        ],
        [
         "24",
         "biafra separatist nigerian army disagree siege allegation onitsha nigeria reuter group campaign secession southeastern nigeria know biafra tuesday accuse army lay siege leader home charge armed force deny rise tension prompt governor abia state leader residence locate impose curfew member indigenous people biafra ipob group say soldier surround home leader nnamdi kanu group step call secession kanu release bail april detain nearly year charge criminal conspiracy belong illegal society surrounding nnamdi kanu residence true say army spokesman sani usman secessionist sentiment simmer region biafra separatist rebellion tip africa populous country civil war kill estimate million people military presence southeastern nigeria increase week crack crime ipob say soldier storm kanu family compound sunday army deny politician wade dispute tuesday abia state governor okezie ikpeazu say statement people advise observe curfew pm gmt gmt sept sept caucus southeastern lawmaker senate upper chamber parliament say statement chairman enyinnaya abaribe military send strong signal region siege democracy renew call biafran secession prompt president muhammadu buhari use speech return month medical leave britain august nigeria unity negotiable amnesty international accuse nigeria security force kill biafra separatist peaceful rally military police deny allegation",
         "1"
        ],
        [
         "25",
         "nyc terrorist allegedly enter ny democrat senator chuck schumers diversity visa program mark levin drop bombshell tonight muslim terrorist kill people manhattan injure dozen diversity visa program give green light new york democrat senator chuck schumer mark levin nyc muslim terrorist come diversity visa program bizarre lottery shove foreigner throat deplorable md mddeplorable october accord abc authority come united states seven year ago uzbekistan call diversity visa program offer lottery people country immigrant americadiversity lotteryon washington post write article design criticize president trump million concerned year diversity lottery accord washington post lottery premise simple year diversity visa lottery officially know provide randomly select foreigner few percent enter drawing permanent residency united statesit connect employment family member united states requirement entrant adult high school diploma year work experience winner bring spouse child citizen country send people united states past year canada china india nigeria mexico ineligible participatethe current lottery coincide intense debate immigration come amid policy change country welcoming new arrival president trump crack illegal immigration press forward plan build wall border mexico issue executive order target foreign worker refugee traveler certain majoritymuslim countriesbut say word greencard lotteryits day number nonetheless lottery appear conflict president meritbase immigration system bill republicancontrolled congress seek eliminate program diversity lottery plague fraud advance economic humanitarian interest deliver diversity namesake accord news release sen tom cotton rark cosponsor billsthe program operate consular center williamsburg ky chop block come attack egyptian terrorist kill people los angeles find united states wife diversity visa mohame atta egyptian suicide pilot enter lottery twice enter united states different visa study aviation terrorist organization people apply country odd pick rep bob goodlatte rva tell washington post introduce illfate bill kill programstate department official insist lottery winner vet thoroughly potential immigrant united stateshere diversity immigrant visa program workstwitter respond idiocy diversity visa programmuslim terrorist slaughter nyc today wait wait diversity visa thank libtard wayne world waynesense november",
         "0"
        ],
        [
         "26",
         "california governor deliver harsh message donald trump mess wrong state video secret californian fan donald trump trump stand california california reject trump election whopping percent margin turn trump call populous state union control threaten withhold money bend trump california governor jerry brown meet press sunday say trump pick fight wrong governorat specific issue fact california city sanctuary city mean safe undocumented resident report crime fear deportation half brain know people report crime big weapon criminal trump tell supporter sanctuary city hotbed danger fact people report crime typically safercalifornia back trump bully pull funding california california go retaliate thing trump want call ninth tenth amendment state federal government arbitrarily political reason punish state california number number california america percent key export capital go pacific innovation capital high tech agriculture billion dollar industry want mess california go mess economy blow face gigantic recession roll republicans right town source nbc newshere video brown talk youknowwhat california country lot hurt large state th large economy world economy surpass france india trump voter need bit tangible let california cost food find roofcalifornia produce sizable majority american fruit vegetable nuts percent artichoke percent walnut percent kiwis percent plum percent celery percent garlic percent cauliflower percent spinach percent carrot list go onwithout california supply product united states abroad dip year nearly impossible find orchardbase product particular nut fruit year spring backprice surge eventually large issue rise price force americans consume grain lock complicated pricedependent relationship fresh fruit vegetable meat price produce increase people eat grain price grain drop people eat fruit vegetable fact part world wheat rice prove giffen good product decrease price lead decrease demand young people poor america eat fresh food price risesource slatebeyond imagine president obama threaten pull funding let texas state consistently hostile democratic president republicans democrat fit right donald trump work people vote time learn jerry brown perfect person teach lessonfeatured image video screen capture",
         "0"
        ],
        [
         "27",
         "sex scandal allegation ted cruz unleash colossally pathetic hissy fit facebook world politic go scandal fact way true false go happen matter important handle scandal far republican presidential candidate ted cruz show handle throw waywith national enquirer print story allege cruz involve different woman wife cruzsexscandal quickly start social medium national conversation story true know point matter therenow cruz simply shrug allegation laugh ridiculous instead choose throw ginormous hissy fit facebook blame entire thing donald trump know maybe trump blame cruz handle show handle time trouble let prettycruz write facebook want crystal clear attack garbage donald j trump enlist friend national enquirer political henchman bidding show low donald gothese smear completely false offensive heidi offensive daughter offensive donald continue personally attackdonald trump consistently disgraceful behavior beneath office seek go follow cdata cdata cdata cdata cdata cdata cdata functiond var js fjs dgetelementsbytagname dgetelementbyidid return js dcreateelement jsid jssrc connectfacebooknetenussdkjsxfbmlversionv fjsparentnodeinsertbeforejs fjsdocument script facebookjssdk gti want crystal clear attack garbage donald j trump enlist friend national post ted cruz friday march listen te calm story national enquirer false simply drift away course hour news cycle draw attention act defensive necessarily look guilty look good tabloid paper talk people give birth alien maybe queen england take heroin like print new york times wall street journal simmer stuff like inevitably go come true goodness sake ask clintonif handle ridiculous story hell go handle commanderinchief simple able tono matter vote bluefeatured image gage skidmore flickr",
         "0"
        ],
        [
         "28",
         "pledge strong response event north korean nuclear test tokyo reuter united states respond strongly case north korean nuclear test deputy secretary state antony blinken say monday day north failure launch united states believe intermediaterange ballistic missile north korea conduct fourth nuclear test january longrange rocket launch month contravention un security council resolution expand un sanction aim starve north korea fund nuclear weapon program approve unanimous security council vote early march resolution draft united states china blinken meet senior japanese government official tokyo tell reporter north korea dig deeply hole pursue provocation additional strong response case north korean nuclear test blinken say add action north korea unacceptable blinken say united states consider number possibility add premature specific expert expect north korea conduct fifth nuclear test near future possibly party congress early follow embarrassing missile failure friday",
         "1"
        ],
        [
         "29",
         "young chinese rebel feel pull family tie chengdu china reuter stepfather die pulmonary heart disease intensive care unit country zheng yue rush airport catch flight zheng nervous outwardly calm stride airport terminal pull carryon bag look checkin counter trip important say know biological father die mother second husband abusive mother leave husband well develop genuine feeling father say feel pressure lie ahead family common worry generation spring china onechild policy child mean line support family say zheng show devotion family time mother marry time zheng develop rebellious streak define youth start cut class elementary school stay home watch tv middle high school climb school wall go internet cafe play video game find school boring grade show like go school go class immediately tired exhausted like hear lecture stuff say child mother try tight leash allow boyfriend sheltered world develop talent paint school award come time college entrance exam test fine art category easy path university china rigid system pick school zheng map decide choose far hometown dezhou shandong province branch university electronic science technology china chengdu km mile away want break free fetter say college freedom class major animation bearable chore soon skip class fourth year student land internship assistant interior design firm long date man work year college man graduate spend follow year work live boyfriend waste year say time step society dynamism year great dare eventually find work interior designer work midnight marriage child interest give traumatic childhood family life live boyfriend flat own hope able buy tough proposition country property price soar discover life pressure big big pressure outside kind come parent big pressure say stoic nod head say goodbye pass airport security day tap wechat message friend father die today word meaningless",
         "1"
        ],
        [
         "30",
         "clamor justice yugoslav court leave global legacy belgrade reuters court dutch north sea coast issue final verdict week signal end experiment reverberate world kill field rwanda cia secret cell europe international criminal tribunal yugoslavia icty set united nations mark big leap field international criminal law ally try nazi nuremberg create answer bad war crime europe world war set precedent accountability khmer rouge liberia charles taylor dock pave way court global ambition year later legacy threat international criminal court icc open undermine renew westrussia rivalry stonewalling revolt africa barrel bomb syria boycott permanent member un security council supporter yugoslav tribunal remain beacon inspire grow demand justice creativeness deliver ad hoc tribunal africa conviction country dictator syrian sweden post facebook glass half half say alex whiting professor practice harvard law school come far new institution particularly icc replicate success icty easily remarkable far come year say icty north star yugoslav tribunal owe debt history bear end cold war attack united states russia weak west unite collective action decade conflict vietnam algeria afghanistan sri lanka escape major judicial scrutiny back arrestpower western peacekeeper readiness european union condition integration yugoslavia successor state cooperation tribunal issue indictment secured conviction wednesday verdict trial bosnian serb wartime commander ratko mladic bar appeal yugoslav court indict sit head state serbia slobodan milosevic recognize sexual violence crime war advance definition genocide un tribunal rwanda assemble hybrid case law tribunal sierra leone cambodia lebanon ultimately icc million page transcript offer forensic harrowing account state dissolution dispel fog wartime propaganda witness take stand commit speak behalf survive say nusreta sivac judge bosnia testify rape bosnian serb captor tribunal ruling write history detractor court slow expensive damage number highprofile acquittal milosevic die trial case plague witness intimidation tribunal suppose help reconciliation revisionism rife convict war criminal fete hero critic argue indictment milosevic height nato air strike complicate conflict encourage cling month similar argument icc pursuit african leader establish treaty boycott united states china russia icc little clout icty arab member find bulk work africa allege bias burundi quit court month kenya south africa threaten follow court credibility test collapse case kenyan president uhuru kenyatta sudanese president omar albashir eightyear evasion arrest glaring impotence face nearly half million dead syria hand tie russian chinese veto security council refer case court nonmember state syria icc deny bias africa stage investigation georgia iraq ukraine colombia palestine expect little progress investigate conflict involve russia united states watershed moment prosecutor month call formal investigation war crime afghanistan include mistreatment detainee force country cia dark site poland romania lithuania expert symbolic court ambition limitation give unlikelihood cooperation trump administration yugoslav tribunal demonstrate strong political diplomatic support international community justice achieve chief prosecutor serge brammertz tell reuter support obstacle insurmountable kevin jon heller law professor university amsterdam say icc strongly doubt go fulfill aspiration people state create demand accountability multiply avenue pursue expert point conviction chad exdictator hissene habre senegalese court time universal jurisdiction prosecute ruler country court human right crime principle see syrian soldier convict swedish court month partly basis social medium post authority sweden germany investigate dozen individual crime syria iraq security council paralyze un general assembly launch ad hoc mechanism investigate war crime syria hybrid tribunal work central african republic moot south sudan ebb seven year fact increase demand justice expectation translate action say parampreet singh associate director human right watch icty effort change conversation say white reason project die say dormancy die",
         "1"
        ],
        [
         "31",
         "supreme court firmly back abortion right toss texas law washington reuters supreme court monday strike texas abortion law impose strict regulation doctor facility strong endorsement abortion right america decade ruling hold republicanbacke texas law place undue burden woman exercise right constitution end pregnancy establish court landmark roe v wade decision abortion provider challenge law say medically unnecessary specifically intend shut clinic texas official say intend protect women health ruling mean similar law state probably unconstitutional jeopardy type abortion restriction enact conservative state decision send loud signal politician long hide sham rationale shut clinic prevent woman decide end pregnancy get care need say jennifer dalven lawyer american civil libertie union president barack obama administration back abortion provider court challenge say statement pleased supreme court protect women right health restriction like texas harm womens health place unconstitutional obstacle path womans reproductive freedom conservative justice anthony kennedy join court liberal member ruling remain conservative dissent court declare key provision law require abortion doctor difficulttoobtain admit privilege local hospital require clinic costly hospitalgrade facility violate womans right abortion writing court liberal justice stephen breyer say conclude provision offer medical benefit sufficient justify burden access impose place substantial obstacle path woman seek previability abortion constitute undue burden abortion access violate federal constitution breyer add deferring state legislature question medical uncertainty inconsistent court case law breyer add ruling case womans health v hellerstedt represent vigorous affirmation abortion right united states ruling affirm womans right procedure warm sunny summer day hundred people side issue converge supreme court building abortion right advocate dance celebrate ruling ecstatic reality today woman abortion right activist marcela howell say law pass republicanle legislature sign republican governor state currently admit privilege requirement book law require hospitalgrade facility low court block admit privilege provision state halt facility regulation state decision erode state lawmaking authority safeguard health safety woman subject innocent life lose texas goal protect innocent life ensure high health safety standard woman republican texas governor greg abbott say law pass number abortion clinic texas secondmostpopulous state million people drop supreme court appeal pende case involve admit privilege law mississippi wisconsin act soon tuesday texas law require abortion doctor admit privilege type formal affiliation hospital mile km clinic treat patient need surgery critical care law require clinic building possess costly hospitalgrade facility regulation cover numerous building feature corridor width swinge motion door floor tile parking space elevator size ventilation electrical wiring plumb floor tiling angle water flow drinking fountain americans remain closely divide abortion legal reutersipsos online poll involve adult conduct june june percent respondent say abortion generally legal percent say generally illegal view abortion united states change little decade accord historical polling datum time justice decide major abortion case year ago rule uphold federal law ban lateterm abortion procedure amy hagstrom miller founder ceo womans health lead challenge texas law say day womans health treat patient compassion respect dignity today supreme court thrill today justice serve clinic stay open presumptive democratic presidential nominee hillary clinton twitter call ruling victory woman texas america fight not president protect women health woman will not punish exercise basic right say dig presumptive republican presidential nominee donald trump suggest woman illegal abortion face sort punishment presidential election nov state pursue variety restriction abortion include ban certain type procedure prohibit certain number week gestation require parental permission girl certain age impose waiting period mandatory counseling exceedingly unfortunate court take ability protect women health hand texas citizen dulyelecte representative texas attorney general ken paxton republican say statement chief justice john roberts justice clarence thomas justice samuel alito dissent normally ninejustice court member short feb death conservative justice antonin scalia consistently oppose abortion past ruling",
         "1"
        ],
        [
         "32",
         "kkk leader thank trump vp nice audio infamous leader ku klux klan prove big bully thin skin kkk grand wizard david duke trumplove white supremacist spend good chunk life lead hate group apparently like call bad name hurt feelingsduke let americans sensitive exkkk leader speak fact republican vice presidential nominee mike pence hold call duke name like deplorable penny disavow duke support unlike boss return kindness compassion duke praise pence extensively radio refuse duke exactly duke say idea try pence name basically bite real positive thing secret alliance duke trump campaign disgusting disastrous effect inspire trump racist hateful presidential campaign duke run senate americans accept racist antisemitic view trump hold trump campaign basically pave way people like dukeyou listen duke rave penny belowthe terrifying thing trump campaign gop nominee literally ok hate speech bigotry express publicly way normalize campaign speeche violenceprovoking rally share white supremacist antiminority message social medium regular basis trump room awful divisive view express give people like duke gut platform dare pursue america trump create great terrifyingfeature image screenshot",
         "0"
        ],
        [
         "33",
         "lol snarky white yahoo sport writer trash black nhl player pksubban say hell kneel national anthem respect american flag bold white yahoo sport writer greg wyshynski affectionately refer puck daddy handful black man nhl stand black life matter anticop movement disrespect flag veteran fell swoop wyshynski write pk subban say tuesday kneel national anthem protest politicallysubban perform fundraiser tuesday night zanies comedy club nashville benefit comedy care tell audience knee national anthem respect american flag comment send eyewitness confirm predator subban canadian consider prominent black player pro hockeyearli day nashville predator announce team engage protest national anthem come day hundred nfl player coach executive show solidarity rebuke president donald trump comment player protest police brutality africanamerican national anthem son bitch deserve lose jobssaid ceo sean henry tennessean come want team collaborative go input honor anthem flag country stand anthem invite fan way honor stand provide freedom express view protest manner feel comfortable think proper forum game unifying celebration decide go stand honor country come accord seth dean predator fan attend comedy fundraiser event subban take stage say continue stand respect sing anthem point point friend crowd law enforcement officer bostonfrom dean address shuffle foot anthem say add test mention pump crowd excited support usa canadian jokingly suggest stand sing anthem zany happen obviously go lavy proclamation player go stay stand especially coach room support anthem unequivocal possibly email yahoo sport hailey attendee describe scene detailtonight comedy fundraiser zany nashville ryan hamilton headliner attendance spontaneous pretty excited pk subban comedian surprise allegedly impromptu set end tense promise pk despite previous dancing antic national anthem kneel national anthem follow long rant respect american flag",
         "0"
        ],
        [
         "34",
         "break government attack drudge report tweet conservative medium icon matt drudge verify twitter account thursday night appear accuse government interfere website drudgereportcom hour barack obama administration announce new sanction russia election hacking government attack drudge report big ddo site inception suspicious routing time tweet drudge follower read tweet account timea largescale distribute denial service attack ddo cause major internet disruption past attack shut major website twitter spotify netflix amazon tumblr reddit attack send server illegitimate request hard real request effectively shut sitedrudge report briefly pm est work hour later headline read moscow mock obama lame duck conservative washington times write matt drudge suggest government cyberattack drudge report website ddos attack come day obama announce countermeasure russia hack democrats conservative twitter accuse government shut russian news website rt numerous report russian staterun network rt unavailable drudge report big ddo attack site inception write userread ibtime",
         "0"
        ],
        [
         "35",
         "rich tycoon take iraqi kurdish leader independence sulaimaniya iraq reuter eve independence referendum iraq kurdistan region man campaign yes vote fear stoke tension middle east million kurd iraq eligible vote unite dream statehood outcome sept referendum autonomous region northern iraq doubt baghdad make clear oppose independence region abundant oil reserve voter fear time start move break away iraq rich businessman shaswar abdulwahid qadir take cause despite brand traitor political enemy take establishment launch campaign explain economic political risk yes vote vote well people well kurdistan future yearold businessman tell reuter rally saturday soccer stadium sulaimaniya iraqi kurdistan second large city warn consequence independence declaration say bring people unstable situation referendum qadir goal resist independence forever fear yes vote unleash wrath government iraq iran turkey syria precedent encourage separatistminde kurd country iraq parliament vote tuesday reject referendum authorize prime minister measure preserve iraq unity western power want delay worried vote derail cooperation iraq kurd islamic state syria iraq qadir kurd raise voice openly yes campaign lead president masoud barzani kurdish democratic party kdp independence precede dialogue baghdad qadir believe share concern rally sulaimaniya qadir welcome stadium dancer colorful traditional dress crowd chant delay start hour allow stadium help refurbish fill people attend fill arena begin speak scuffle break man crowd try throw qadir speech businessman say undeterred criticism attack say affect business ok believe way kurdistan say critic qadir medium conglomerate advance agenda fortune business empire include real estate television station theme park life different say represent kurd hit baghdad decision cut funding iraqi kurdistan protest construction pipeline export oil turkey action baghdad increase antagonism kurd suffer late iraqi dictator saddam hussein increase desire independence desire unite million kurd iraq iran syria turkey interview reuter city iraqi kurdistan show voter worried possible fallout referendum favor independence worried embolden entrenched elite iraqi kurdistan long plague political disunity barzani powerful force decade president referendum country dictator power say ahmed nana yearold barista coffee shop sulaimaniya want passport nationality want reason proud country right referendum sideshow distract political problem parliament meet coalition government break faction support independence necessarily barzani leadership regional government call presidential parliamentary election nov kurd doubt voting ahead independence referendum widen political division polarize kurdish society vote say bahra saleh analyst american university iraq sulaimani compound stalemate economic crisis trigger baghdad decision cut funding compound low oil price conflict islamic state region billion dollar debt public salary steeply cut particularly affect civil servant peshmerga fighter teacher hold referendum regional government need prepare region economically region sustain say mohammad tofiq raheem leader gorran party coalition end regional economy depend partly turkey goodwill allow oil export trade iraq generational split old kurd hope long struggle statehood date division middle east colonial power world war end young people drive nationalism independence dream year say saleh analyst like way make sense way risk civil war",
         "1"
        ],
        [
         "36",
         "fight win russia annihilate dozen isis oil tankersand share video world putin remind weak ineffective commander chief win war terrorist look like attack plane destroy isis oil truck november allegedly drop leaflet warn innocent driver scatter purportedly mark shift strategy obama administration grossly underestimate proceed isis derive illicit oil trade overestimate damage warplane inflict group oil infrastructurehere video russian defense ministryadditionally bloomberg suggest pentagon routinely decline tanker truck fear collateral damage guy isis feel right vaporize watch isis oil flow year michael knight iraq expert washington institute near east policy tell bloombergthere couple thing jump exactly clear matter administration underestimate revenue isis derive oil difference million million year meaningful talk corporation terrorist group sure matter make time think come assess operational capability money matter come formulate strategy cripple ability produce oil like oh make million year fine million draw line second worried collateral damage come take terrorist intercept lay bare series recent investigative report kill drone strike target cia aware statistic time pull trigger mq reaperso sure overestimate effect airstrike islamic state oil production capability pentagon concern kill innocent truck driver sergei lavrov suggest early week intentionally avoid hit isis hurt order game ensure effective destabilizing assad cut oil trade lose ability battle regimein event press question isis oil encourage read important question isis ask turn russia kremlin effort dent bakr albaghdadi walletaccording russian general staff spokesman colonel general andrey kartapolov fuel tanker vehicle transport illegal oil syria iraq processing destroy russia air force recent year islamic state isisisil extremist group organize operation socalled pipeline wheel territory control kartapolov continue add day russian aviation destroy fuel tanker truck greatly reduce illegal oil export capability militant accordingly income oil smuggling zero hedge",
         "0"
        ],
        [
         "37",
         "trump shady medical note write doctor false credential video gop field day spread false rumor hillary clinton health look like karma finally arrive tuesday morning cnn medical correspondent sanjay gupta call donald trump personal doctor notice questionable note extraordinary health republican nomineetrump doctor dr harold bornstein previously say trump healthy individual elect presidency gupta dispel statement delve bornstein sketchy history gupta tell host chris cuomo doctor trump year father say fellow american college gastroenterology gi doc interestingly call particular organization say member member year suddenly trump medical record physician untrustworthy campaign surprised trump campaign entirely comprise lie scamsthe letter gupta refer note trump release instead real medical record sketchy rightbornsteinin examine letter closely gupta say instinct set fact doctor word positive synonym normal term letter right gupta discover young bornstein tell truth credential fact hospital lenox hill hospital say section gastroenterology actually member section admit privilege hospital section thing letter regard qualification little bit questionable sort language letter think surprising write way typical medical letter write watch segment gupta expose trump con artist doctor belowdrsanjaygupta dig donald trump health report doctor qualification little bit questionable new day newday august feature image facebook",
         "0"
        ],
        [
         "38",
         "begin wisconsin company implant microchip employee work company offer convenience microchip implant hand company wisconsin go trend thing inevitably go happen want river fall wisc company wisconsin offer microchip implant employee thing inevitably go happen want square market chief executive officer todd westby tell ktspthe company design software electronic break room market commonly find office complexespeople currently able purchase item market phone westby want thing step implant microchip inside person hand come scan item explain show process work actual break room market kiosk hit pay credit card ask swipe proximity payment hold hand like cell phone pay product employee device implant start week chip implant person thumb forefinger size single grain ricealong purchase market kiosk item employee able use chip door log computerseach chip cost company eat cost implant person thumb forefingerwestby add datum encrypt secure gps track saidfortune reportedthe company work biohax international swedish company specialize smart biometric sensor embed chip use sort nearfield communication nfc technology enable people hold phone device payment chip rely wireless rfid radio frequency identification technology track package transitdoe red flag hereno employee square market require chip implantvia wbrz",
         "0"
        ],
        [
         "39",
         "kill iran quake tv ankara reuter people kill iranian town border iraq sunday powerful earthquake hit area iranian state television report village damage iran quake state television report quake feel iranian province border iraq village damage electricity cut village rescue team dispatch area tv report state tv say people kill injure town qasre shirin people stay street town western kermanshah province threat aftershock local red crescent official tell tv house rural part province mud brick know crumble easily quakeprone iran",
         "1"
        ],
        [
         "40",
         "break swear affidavit prove clinton victim not assault harass donald trump think bring juanita broaddrick second presidential debate good ideafor people forget early president bill clinton run campaign broaddrick go public accusation clinton rape run governor hillary intimidate silencea expect create medium circus accusation throw presidential candidate mannerhowever year accusation surface broaddrick sworn affidavit december paula jones scandal admit president clinton unwarranted sexual advance herea obtain washington post meet president clinton year ago family friend introduction arrange facilitate way arkansas state police arkansas state employee federal employee discuss mr clinton possibility state federal employment offer position relation past year presidential campaign unfounded rumor story circulate mr clinton unwelcome sexual advance late seventy newspaper tabloid reporter hound family seek corroboration tale repeatedly deny allegation request family privacy respect allegation untrue hope long haunt cause disruption family specifically information offer nonconsensual unwelcome sexual advance mr clinton discussion offer provision state federal employment advancement exchange sexual conduct use state trooper procure woman sex require testimony deposition matter cause unwarranted attorney fee cost disruption life constitute invasion right privacy reason ask attorney advise ms jones counsel truth rumor pursue provide counsel swear affidavitknown jane doe time broaddrick admit law enforcement court country year initial accusation president clinton rape herand bill rape hillary clinton intimidate silenceseem trump campaign research sadconsidere broaddrick lie hillary clinton lightly awful shameful accusation true begin woman issuesthe fact donald trump liar prop deflect sexual prowess show desperate pathetic campaign isfeature image justin sullivangetty image",
         "0"
        ],
        [
         "41",
         "urge cooperation kurdish leader resignation washington reuters united states monday urge iraq federal government kurdish regional government institution resolve disagreement iraqi kurdish leader masoud barzani say resign later week kurdish party support krg work resolve pende issue remainder term prepare election state department spokeswoman heather nauert say statement commend barzani decision urge iraq krg work urgently resolve pende issue iraqi constitution statement appear reflect belief departure barzani sept independence referendum widely see backfire easy main kurdish faction work negotiate federal government lead prime minister haider alabadi statement nauert stress desire work krg prime minister nechirvan barzani masoud barzani nephew fellow member kurdistan democratic party kdp faction deputy prime minister qubad talabani member faction patriotic union kurdistan puk strong krg unified federal iraq essential longterm stability endure defeat isis say refer islamic state militant group destruction major policy objective region dispute krg baghdad federal government range perennial tussle share oil revenue control territory border crossing suggest barzani departure yield great kurdish unity improve odd resolution baghdad official say allow tension continue able find way live time sit try work thing",
         "1"
        ],
        [
         "42",
         "speed safety china food delivery industry warn accident beijing reuters scooter driver bright blue jacket food delivery run dash busy intersection slick rain hit turning car hurl tarmac video post chinese police warn courier slow china home delivery boom power estimate million courier ride quiet electric scooter boxy threewheeler trigger surge road accident prompt warning police complaint driver feel pressure speed safety accident happen time rush hour friend hit car work month say food courier beijing surname zhang decline number user china online food delivery market dominate service back technology giants alibaba group holding ltd tencent holdings ltd surge percent million half accord report statecontrolled china internet network information center injury death involve food delivery driver shanghai record half police call china large food delivery company late august warn improve safety standard driver china large food delivery company meituandianpe eleme responsible quarter incident shanghai police say news spark countrywide reaction city police state medium come chastise industry accident police eastern city nanjing meet food delivery company sept courier involve accident half percent deem fault state medium report official legal daily urge authority mobilise masse use phone camera catch offender punish employer identify distinctively colored uniform spokesman meituan driver wear fluorescent yellow say company safety training driver conduct driver training course july say percent drop traffic incident following month spokeswoman eleme say tell driver safety speed second company recently launch system track traffic violation driver offer reward onlooker report incident china driver rarely mug shoot risk face counterpart part united states country suffer injury country hectic city road driver typically blame accident labor activist numerous driver say incentive speed necessity hong kongbase china labour bulletin track labor action china say courier increasingly air grievance stage protest strike demand well wage accident insurance driver face fine late delivery poor customer rating driver say add company provide insurance coverage accident company driver cover public party liability insurance food delivery driver tell reuter expect delivery tohour shift usually time limit half hour delivery time get good review customer mean extra yuan cent delivery courier usually hire directly company design ordering software instead work freelance party company leave direct contract platform operator august dozen meituan driver stage strike southern city yixe complain pay injury compensation show scabcovere leg handwritten equation build fine late delivery eat salary vast majority driver migrant worker age send income home support family accord report meituandianpe food delivery platform management need humane official people daily newspaper say recent commentary switch operating model seek speed seek stability let delivery driver risk life deliver meal eleme spokeswoman acknowledge balance delivery speed traffic safety hard add company work use artificial intelligence optimize route monitor driver criticism target food delivery company driver face great time pressure welldefine route deliver package wide delivery industry problem niu hongqiang driver hebei province work package delivery company beijing say safety training receive useless go wrong go wrong big way",
         "1"
        ],
        [
         "43",
         "liberal humor florida bar post sign suggest wellknown criminal assassinate trump video federal offense threaten presidential candidate federal offense candidate donald trump medium cover story bar owner suggest wellknown attempt assassin kill hillary clever joke threat maybe little bit sign outside bar turn lot headsthe message political timely understand context consider possible threat donald trump abcnow",
         "0"
        ],
        [
         "44",
         "house democrats broadcast sitin social medium camera shut reuters democrats demand action gun control turn twitter periscope facebook live video platform broadcast sitin floor house representative wednesday chamber camera shut representative scott peters california tell reuter download online video platform periscope house floor clear chamber camera operate thank american people get look listen take place floor representative james clyburn south carolina say praise platform protest late democrat persuade republican majority congress vote gun control measure response week mass shooting orlando florida deadly modern history speaker paul ryan control camera peters say notice lunch turn allow turn spokesman twitter say tweet peters account contain periscope footage view time wednesday night ryans spokesman ashlee strong say statement house operate member follow rule institution house recess subject chair noon edt presiding house officer republican representative ted poe declare house order democratic protester sit chamber cable news channel cspan typically use house camera broadcast live footage congress broadcast peters periscope lawmaker feed news network cable news channel include msnbc fox cnn run part footage cspan communication director howard mortman say time channel broadcast live social medium feed house floor house control camera mean control camera angle audio video thing mortman say social medium platform happen official broadcast suspend house create channel follow nobillnobreak periscope live periscope say tweet peters say democratic house member broadcast live video sitin late wednesday lawmaker cheer thank feed air cspan representative eric swalwell california publish live video house floor facebook nobillnobreak rallying cry gun control supporter twitter quickly toptrende hashtag united states social medium platform politician average social medium user alike hashtag sign solidarity sitin spend bday house floor w repjohnlewis gun control nobillnobreak goodtrouble tweet senator elizabeth warren mention potential running mate presumptive democratic presidential nominee hillary clinton",
         "1"
        ],
        [
         "45",
         "trump illegal vote lie turn recount issue long alex jones episode see tweet trump say popular vote landslide million illegal vote take count know trump say damn thing confident possible recount hope hell overturn election result regardless profane get idea million illegal vote casttrump conspiracy theorist believe people like alex jones alex jones probably prominent person report supposedly illegal vote right accord politifact day election infowar publish story headline read report million vote presidential election cast illegal alien claim alex jones wonder legitimate support evidence claim pointless actually get number pair tweet gregg phillip founder votestand votestand voterfraud detection app say go million voter registration find million noncitizen rollscompleted analysis database million voter registrationsnumber noncitizen vote exceed millionconsulte legal team gregg phillips jumpvote november verify million vote cast noncitizenswe join truethevote initiate legal action unrig gregg phillips jumpvote november sprinkle phillip twitter feed tweet claim get evidence release politifact anybody existence tweet app founder paranoid fuck voter fraud jones trump trump loudly proclaim popular vote obviouslyand president likely turn year giant infowar episode want fist windowfeature image draw angerergetty image",
         "0"
        ],
        [
         "46",
         "saudi arabia say un report yemen inaccurate misleading united nations reuters saudi arabia friday reject united nations report blame saudile military coalition kill injure child yemen attack dozen school hospital inaccurate misleading exercise maximum degree care precaution avoid civilian harm saudi un ambassador abdallah almouallimi tell reporter united nations report submit un security council thursday un secretarygeneral antonio guterre blacklist saudile coalition action say take action improve child protection kingdom saudi arabia coalition reaffirm take important measure protect civilian military operation end suffering yemeni people minimize humanitarian cost mouallimi say reject inaccurate misleading information figure contain report express strong reservation respect information say coalition briefly add un blacklist year remove thensecretarygeneral ban kimoon pende review time ban accuse saudi arabia exert unacceptable undue pressure source tell reuter riyadh threaten cut un funding saudi arabia deny effort dampen controversy surround report blacklist year split category list party place measure protect child include saudile military coalition include party report subject list un action shame party conflict hope push implement measure protect child yemen devastate year civil war president abdrabu mansour hadi government back saudile coalition fight drive houthis city seize people kill conflict ruin economy push million brink famine mouallimi blame iranallie houthi rebel force loyal yemen expresident ali abdullah saleh put civilian risk include child human shield un blacklist name houthi rebel group yemen government force progovernment militia al qaeda arabian peninsula violation child",
         "1"
        ],
        [
         "47",
         "obama use labor day harm private sector new executive order give government unfair advantage worker barack obama champion taxpayer fund government employee destroyer private sector president barack obama monday order government contractor offer worker seven day pay sick leave year name knock republican presidential candidate advocate say antiunion policiesobama sign executive order sick leave white house say affect people flight boston speak union eventstarte worker government contract earn minimum hour pay sick leave hour work contractor offer generous amount discretionspeaking friendly crowd tie jacket obama say policy beneficial employer say worker friendly measure pay maternity leave need right advanced nation earth guarantee pay maternity leave say man audience particular think work carry somebody month human race evaporate say draw laughter applause crowdunion organize labor key constituent democratic party support critical presidential electionobama joke glad ballot year thinly veil reference wisconsin governor scott walker new jersey governor chris christie antiunion remark policy clear stand big government union boss stand people walker campaign stop new hampshire say response presidentthe executive order follow series measure white house expand access pay leave january obama issue presidential memorandum direct government advance week pay sick leave birth adoption child sick leaveeligible usesobama press congress pass legislation give government employee additional week pay parental leave labor secretary thomas perez say cost implement sevenday pay leave rule contractor believe cost implement rule offset efficiency come reduce attrition increase loyalty thing document number study state law enact perez tell reporter conference sundayobama trip boston renew congress pass healthy family act require business employee offer seven pay sick day yearaccorde white house estimate million privatesector worker percent total privatesector workforce access pay sick leave reuter",
         "0"
        ],
        [
         "48",
         "trump sound abortion criticism come side washington reuters republican presidential frontrunner donald trump say wednesday woman end pregnancy face punishment united states ban abortion trigger torrent criticism side abortion debate include white house rival msnbc broadcast clip interview trump billionaire businessman row remark say abortion issue handle state later doctor perform abortion one hold responsible doctor person perform illegal act woman hold legally responsible woman trump say statement woman victim case life womb trump early statement draw heavy fire abortion right supporter opponent alike abortion long divisive issue american politic procedure legalize supreme court ruling year ago opposition abortion central plank platform conservative politician trump support republican voter sell washington outsider new york real estate tycoon support abortion access come pressure conservative prove truly time draw criticism comment offend woman minority group course woman not punish rival republican candidate john kasich say wednesday say oppose abortion specific case rape senator ted cruz texas candidate republican nomination nov election say trump think issue far neglect prolife simply unborn child mother say statement abortion right supporter equally incense donald trump say outrageous dangerous constantly take aback kind thing advocate democratic frontrunner hillary clinton tell msnbc show dawn laguen plan parenthood action fund political arm womens health group call trump flatout dangerous statement abortion legalize united states supreme court declare womans constitutional right privacy protect decision end pregnancy decade vote supreme court reverse ruling numerous state pass law aim restrict abortion msnbc interview air later wednesday trump say united states ban abortion woman seek end pregnancy illegally form punishment say ask form advocate trump say not know antiabortion group say trump comment odd stance position conference catholic bishop take issue abortion call punishment woman abortion say clemmer spokesman group backlash start trump campaign seek moderate view issue unclear state determination trump say statement provide reuter email later trump walk comment doctor woman responsible dustup evidence discord republicans trump candidacy tuesday trump kasich ohio governor abandon pledge support partys eventual nominee cruz explicitly abandon pledge say trump nominee trump outrage woman say fox news megyn kelly blood come eye blood come ask tough question televise debate see reference menstruation accord reutersipsos poll march percent likely woman voter say unfavorable view trump republican woman respond poll percent favorable view percent remark set furious reaction trump call illegal immigrant mexico criminal rapist push temporary ban muslim enter united states wednesdays msnbc interview trump say rule possibility nuclear weapon combat islamic state militant card table say",
         "1"
        ],
        [
         "49",
         "kill burqaclad taliban attack pakistani college peshawar pakistan reuters pakistani taliban gunman disguise allenvelope burqas storm campus agricultural college pakistan friday kill people wound police hospital official say police army troop summon scene kill attacker agriculture training institute northwestern city peshawar hour attack military press wing say pakistani taliban claim responsibility say message spokesman mohammad khorasani target safe house military interservice intelligence agency gunman arrive campus autorickshaw disguise burqas wear woman region peshawar police chief tahir khan say shoot wound guard enter campus say wound student ahteshan ulhaq tell reuter university hostel usually house nearly student go home long holiday weekend student remain sleep hear gunshot get second everybody run shout taliban attack say pakistani taliban later release video show attack record appear bodymounted camera gunman race building shout allahu akbar fire weapon go room room search student militant issue photo attacker say nearby swat valley singing movement fugitive leader mullah fazlullah mission shehzad akbar medical director hayatabad medical complex say people die wound treat people die khyber teaching hospital wound director nekdad afridi say december pakistani taliban gunman kill child peshawar army public school single deadly attack country history pakistani taliban fight topple government install strict interpretation islamic law loosely ally afghan taliban insurgent rule afghanistan overthrow usbacked military action",
         "1"
        ]
       ],
       "shape": {
        "columns": 2,
        "rows": 39100
       }
      },
      "text/html": [
       "<div>\n",
       "<style scoped>\n",
       "    .dataframe tbody tr th:only-of-type {\n",
       "        vertical-align: middle;\n",
       "    }\n",
       "\n",
       "    .dataframe tbody tr th {\n",
       "        vertical-align: top;\n",
       "    }\n",
       "\n",
       "    .dataframe thead th {\n",
       "        text-align: right;\n",
       "    }\n",
       "</style>\n",
       "<table border=\"1\" class=\"dataframe\">\n",
       "  <thead>\n",
       "    <tr style=\"text-align: right;\">\n",
       "      <th></th>\n",
       "      <th>clean_text</th>\n",
       "      <th>target</th>\n",
       "    </tr>\n",
       "  </thead>\n",
       "  <tbody>\n",
       "    <tr>\n",
       "      <th>0</th>\n",
       "      <td>national security adviser brzezinski die reute...</td>\n",
       "      <td>1</td>\n",
       "    </tr>\n",
       "    <tr>\n",
       "      <th>1</th>\n",
       "      <td>trump back conspiracy theory say hillary clint...</td>\n",
       "      <td>0</td>\n",
       "    </tr>\n",
       "    <tr>\n",
       "      <th>2</th>\n",
       "      <td>trump meet australian pm relation strain asylu...</td>\n",
       "      <td>1</td>\n",
       "    </tr>\n",
       "    <tr>\n",
       "      <th>3</th>\n",
       "      <td>senate clear way billion arm sale saudi arabia...</td>\n",
       "      <td>1</td>\n",
       "    </tr>\n",
       "    <tr>\n",
       "      <th>4</th>\n",
       "      <td>factbox trump twitter oct tax cut united kingd...</td>\n",
       "      <td>1</td>\n",
       "    </tr>\n",
       "    <tr>\n",
       "      <th>...</th>\n",
       "      <td>...</td>\n",
       "      <td>...</td>\n",
       "    </tr>\n",
       "    <tr>\n",
       "      <th>39095</th>\n",
       "      <td>watch malcolm nance wipe floor breitbart edito...</td>\n",
       "      <td>0</td>\n",
       "    </tr>\n",
       "    <tr>\n",
       "      <th>39096</th>\n",
       "      <td>trump target obamas climate initiative white h...</td>\n",
       "      <td>1</td>\n",
       "    </tr>\n",
       "    <tr>\n",
       "      <th>39097</th>\n",
       "      <td>germany refuse recognize catalonia independenc...</td>\n",
       "      <td>1</td>\n",
       "    </tr>\n",
       "    <tr>\n",
       "      <th>39098</th>\n",
       "      <td>new handgun design fold like smartphonebut goo...</td>\n",
       "      <td>0</td>\n",
       "    </tr>\n",
       "    <tr>\n",
       "      <th>39099</th>\n",
       "      <td>trump nominate exnyse euronext vp dawn deberry...</td>\n",
       "      <td>1</td>\n",
       "    </tr>\n",
       "  </tbody>\n",
       "</table>\n",
       "<p>39100 rows × 2 columns</p>\n",
       "</div>"
      ],
      "text/plain": [
       "                                              clean_text  target\n",
       "0      national security adviser brzezinski die reute...       1\n",
       "1      trump back conspiracy theory say hillary clint...       0\n",
       "2      trump meet australian pm relation strain asylu...       1\n",
       "3      senate clear way billion arm sale saudi arabia...       1\n",
       "4      factbox trump twitter oct tax cut united kingd...       1\n",
       "...                                                  ...     ...\n",
       "39095  watch malcolm nance wipe floor breitbart edito...       0\n",
       "39096  trump target obamas climate initiative white h...       1\n",
       "39097  germany refuse recognize catalonia independenc...       1\n",
       "39098  new handgun design fold like smartphonebut goo...       0\n",
       "39099  trump nominate exnyse euronext vp dawn deberry...       1\n",
       "\n",
       "[39100 rows x 2 columns]"
      ]
     },
     "execution_count": 4,
     "metadata": {},
     "output_type": "execute_result"
    }
   ],
   "source": [
    "df = df.reindex(['clean_text', 'target'], axis=1)\n",
    "df"
   ]
  },
  {
   "cell_type": "code",
   "execution_count": 5,
   "id": "7e6a4c58",
   "metadata": {},
   "outputs": [
    {
     "data": {
      "application/vnd.microsoft.datawrangler.viewer.v0+json": {
       "columns": [
        {
         "name": "index",
         "rawType": "int64",
         "type": "integer"
        },
        {
         "name": "clean_text",
         "rawType": "object",
         "type": "unknown"
        },
        {
         "name": "target",
         "rawType": "int64",
         "type": "integer"
        }
       ],
       "ref": "deb8900d-10de-4e9c-bccb-04f34461af94",
       "rows": [],
       "shape": {
        "columns": 2,
        "rows": 0
       }
      },
      "text/html": [
       "<div>\n",
       "<style scoped>\n",
       "    .dataframe tbody tr th:only-of-type {\n",
       "        vertical-align: middle;\n",
       "    }\n",
       "\n",
       "    .dataframe tbody tr th {\n",
       "        vertical-align: top;\n",
       "    }\n",
       "\n",
       "    .dataframe thead th {\n",
       "        text-align: right;\n",
       "    }\n",
       "</style>\n",
       "<table border=\"1\" class=\"dataframe\">\n",
       "  <thead>\n",
       "    <tr style=\"text-align: right;\">\n",
       "      <th></th>\n",
       "      <th>clean_text</th>\n",
       "      <th>target</th>\n",
       "    </tr>\n",
       "  </thead>\n",
       "  <tbody>\n",
       "  </tbody>\n",
       "</table>\n",
       "</div>"
      ],
      "text/plain": [
       "Empty DataFrame\n",
       "Columns: [clean_text, target]\n",
       "Index: []"
      ]
     },
     "execution_count": 5,
     "metadata": {},
     "output_type": "execute_result"
    }
   ],
   "source": [
    "df[df.isna().any(axis=1)]"
   ]
  },
  {
   "cell_type": "code",
   "execution_count": 6,
   "id": "8c864e92",
   "metadata": {},
   "outputs": [],
   "source": [
    "X = tfidf.fit_transform(df['clean_text'])"
   ]
  },
  {
   "cell_type": "code",
   "execution_count": 7,
   "id": "8e37de8f",
   "metadata": {},
   "outputs": [],
   "source": [
    "y = df['target'].values"
   ]
  },
  {
   "cell_type": "code",
   "execution_count": 8,
   "id": "0c532ab8",
   "metadata": {},
   "outputs": [
    {
     "name": "stdout",
     "output_type": "stream",
     "text": [
      "TF-IDF matrix shape: (39100, 7000)\n",
      "Target shape: (39100,)\n",
      "Sample feature names: ['abadi' 'abandon' 'abbas' 'abbott' 'abc' 'abc news' 'abdullah' 'abe'\n",
      " 'abedin' 'abide']\n"
     ]
    }
   ],
   "source": [
    "print(f\"TF-IDF matrix shape: {X.shape}\")\n",
    "print(f\"Target shape: {y.shape}\")\n",
    "print(f\"Sample feature names: {tfidf.get_feature_names_out()[:10]}\")"
   ]
  },
  {
   "cell_type": "code",
   "execution_count": 9,
   "id": "606dc318",
   "metadata": {},
   "outputs": [
    {
     "data": {
      "text/plain": [
       "<Compressed Sparse Row sparse matrix of dtype 'float64'\n",
       "\twith 5186979 stored elements and shape (39100, 7000)>"
      ]
     },
     "execution_count": 9,
     "metadata": {},
     "output_type": "execute_result"
    }
   ],
   "source": [
    "X"
   ]
  },
  {
   "cell_type": "code",
   "execution_count": 10,
   "id": "fb7cc461",
   "metadata": {},
   "outputs": [
    {
     "data": {
      "text/plain": [
       "array([1, 0, 1, ..., 1, 0, 1], dtype=int64)"
      ]
     },
     "execution_count": 10,
     "metadata": {},
     "output_type": "execute_result"
    }
   ],
   "source": [
    "y"
   ]
  },
  {
   "cell_type": "code",
   "execution_count": 11,
   "id": "11e7b40b",
   "metadata": {},
   "outputs": [],
   "source": [
    "from scipy.sparse import save_npz\n",
    "import numpy as np\n",
    "save_npz('data/X.npz', X) \n",
    "np.savetxt('data/y.csv', y, fmt='%d', delimiter=',')"
   ]
  },
  {
   "cell_type": "code",
   "execution_count": 12,
   "id": "38c15273",
   "metadata": {},
   "outputs": [
    {
     "data": {
      "text/plain": [
       "['models/verifai_vectorizer.pkl']"
      ]
     },
     "execution_count": 12,
     "metadata": {},
     "output_type": "execute_result"
    }
   ],
   "source": [
    "import joblib\n",
    "import os \n",
    "\n",
    "os.makedirs('models', exist_ok=True)\n",
    "joblib.dump(tfidf, 'models/verifai_vectorizer.pkl')"
   ]
  }
 ],
 "metadata": {
  "kernelspec": {
   "display_name": "neurokit",
   "language": "python",
   "name": "python3"
  },
  "language_info": {
   "codemirror_mode": {
    "name": "ipython",
    "version": 3
   },
   "file_extension": ".py",
   "mimetype": "text/x-python",
   "name": "python",
   "nbconvert_exporter": "python",
   "pygments_lexer": "ipython3",
   "version": "3.10.13"
  }
 },
 "nbformat": 4,
 "nbformat_minor": 5
}
